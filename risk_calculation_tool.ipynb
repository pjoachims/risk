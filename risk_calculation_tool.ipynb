{
 "cells": [
  {
   "cell_type": "code",
   "execution_count": 541,
   "metadata": {},
   "outputs": [],
   "source": [
    "# risk calculation tool\n",
    "\n",
    "import numpy as np\n",
    "import pandas as pd\n",
    "import seaborn as sns\n",
    "import matplotlib.pyplot as plt\n",
    "\n",
    "def attack(n_att, n_def):\n",
    "    dice_att = sorted(roll_tha_dice(min(3, n_att)), reverse=True)\n",
    "    dice_def = sorted(roll_tha_dice(min(2, n_def)), reverse=True) \n",
    "    \n",
    "    dice_att = dice_att[0:min(2, n_def)] # get number of dice used for attacker\n",
    "    dice_def = dice_def[0:min(2, n_att)] # get number of dice used for defender\n",
    "\n",
    "    dice_diff = (np.array(dice_def) - np.array(dice_att)) >= 0 # defender wins\n",
    "    \n",
    "    n_att = n_att - sum(dice_diff) # update number of attackers/defenders\n",
    "    n_def = n_def - (len(dice_diff) - sum(dice_diff))\n",
    "        \n",
    "    if n_att > 0 and n_def > 0: \n",
    "        n_att, n_def = attack(n_att, n_def)\n",
    "\n",
    "    return (n_att, n_def)\n",
    "\n",
    "def simulate_attack(n_att, n_def, iterations=5000):\n",
    "    n_att_lst = []\n",
    "    n_def_lst = []\n",
    "\n",
    "    for i in range(0, iterations):\n",
    "        n_att_, n_def_ = attack(n_att, n_def)\n",
    "        n_att_lst.append(n_att_)\n",
    "        n_def_lst.append(n_def_)\n",
    "\n",
    "    # all iterations\n",
    "    n_att = np.array(n_att_lst)\n",
    "    n_def = np.array(n_def_lst)\n",
    "    \n",
    "    avg_att = n_att[n_att>0].mean()\n",
    "    avg_def = n_def[n_def>0].mean()\n",
    "\n",
    "    wins = sum(n_att>0)/iterations\n",
    "\n",
    "    return (wins, avg_att, avg_def)\n",
    "\n",
    "def roll_die():\n",
    "    return (1 + np.random.randint(6))\n",
    "\n",
    "def roll_tha_dice(n=1):\n",
    "    if n<1: \n",
    "        return (-999)\n",
    "    dice = []\n",
    "    for i in range(0,n):\n",
    "        dice.append(roll_die())\n",
    "    return (dice)\n",
    "\n",
    "def mod_df(df, grid):\n",
    "    df.columns = grid\n",
    "    df[\"defenders\"] = grid\n",
    "    df = df.set_index(\"defenders\")\n",
    "    df = round(df, 2)\n",
    "    return(df)"
   ]
  },
  {
   "cell_type": "code",
   "execution_count": 520,
   "metadata": {},
   "outputs": [
    {
     "name": "stderr",
     "output_type": "stream",
     "text": [
      "/home/pj/anaconda3/lib/python3.7/site-packages/ipykernel_launcher.py:38: RuntimeWarning: Mean of empty slice.\n",
      "/home/pj/anaconda3/lib/python3.7/site-packages/numpy/core/_methods.py:161: RuntimeWarning: invalid value encountered in double_scalars\n",
      "  ret = ret.dtype.type(ret / rcount)\n"
     ]
    }
   ],
   "source": [
    "# setting up a gridspace\n",
    "from_ = 5\n",
    "to_ = 30\n",
    "n_ = 6\n",
    "\n",
    "# initialization \n",
    "grid = np.linspace(from_, to_, n_).astype(int)\n",
    "len_ = len(grid)\n",
    "res_mat_wins = np.zeros((len_, len_))\n",
    "res_mat_avg_att = np.zeros((len_, len_))\n",
    "res_mat_avg_def = np.zeros((len_, len_))\n",
    "\n",
    "# calculation\n",
    "for i in range(0, len_):\n",
    "    for j in range(0, len_):\n",
    "        wins, avg_att, avg_def = simulate_attack(int(grid[i]),int(grid[j]), 3000)\n",
    "        res_mat_wins[i,j] = wins\n",
    "        res_mat_avg_att[i,j] = avg_att\n",
    "        res_mat_avg_def[i,j] = avg_def\n",
    "    \n",
    "# post processing \n",
    "res_mat_wins = res_mat_wins.T\n",
    "res_mat_avg_att = res_mat_avg_att.T\n",
    "res_mat_avg_def = res_mat_avg_def.T\n",
    "\n",
    "df_wins = pd.DataFrame(res_mat_wins)\n",
    "df_wins = mod_df(df_wins, grid)\n",
    "df_avg_att = pd.DataFrame(res_mat_avg_att)\n",
    "df_avg_att = mod_df(df_avg_att, grid)\n",
    "df_avg_def = pd.DataFrame(res_mat_avg_def)\n",
    "df_avg_def = mod_df(df_avg_def, grid)"
   ]
  },
  {
   "cell_type": "code",
   "execution_count": 555,
   "metadata": {},
   "outputs": [
    {
     "data": {
      "text/plain": [
       "(0.5748, 6.422059846903271, 5.7572906867356535)"
      ]
     },
     "execution_count": 555,
     "metadata": {},
     "output_type": "execute_result"
    }
   ],
   "source": [
    "simulate_attack(19, 20)"
   ]
  },
  {
   "cell_type": "code",
   "execution_count": 556,
   "metadata": {},
   "outputs": [
    {
     "data": {
      "text/plain": [
       "<matplotlib.axes._subplots.AxesSubplot at 0x7f866652ec90>"
      ]
     },
     "execution_count": 556,
     "metadata": {},
     "output_type": "execute_result"
    },
    {
     "data": {
      "image/png": "[encoded data removed]",
      "text/plain": [
       "<Figure size 576x432 with 2 Axes>"
      ]
     },
     "metadata": {},
     "output_type": "display_data"
    }
   ],
   "source": [
    "fig = plt.figure(figsize=(8,6))\n",
    "sns.heatmap(df_wins, cmap='coolwarm', center = 0.5, annot = True)"
   ]
  }
 ],
 "metadata": {
  "kernelspec": {
   "display_name": "Python 3",
   "language": "python",
   "name": "python3"
  },
  "language_info": {
   "codemirror_mode": {
    "name": "ipython",
    "version": 3
   },
   "file_extension": ".py",
   "mimetype": "text/x-python",
   "name": "python",
   "nbconvert_exporter": "python",
   "pygments_lexer": "ipython3",
   "version": "3.7.4"
  }
 },
 "nbformat": 4,
 "nbformat_minor": 2
}
